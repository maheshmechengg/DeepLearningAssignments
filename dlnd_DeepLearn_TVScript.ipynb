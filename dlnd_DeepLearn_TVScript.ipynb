{
 "cells": [
  {
   "cell_type": "markdown",
   "metadata": {
    "collapsed": true
   },
   "source": [
    "### TV Script Generation\n",
    "In this project, you'll generate your own Simpsons (https://en.wikipedia.org/wiki/The_Simpsons) TV scripts\n",
    "using RNNs. You'll be using part of the Simpsons dataset (https://www.kaggle.com/wcukierski/the-simpsonsby-\n",
    "the-data) of scripts from 27 seasons. The Neural Network you'll build will generate a new TV script for a\n",
    "scene at Moe's Tavern (https://simpsonswiki.com/wiki/Moe's_Tavern).\n",
    "\n",
    "### Get the Data\n",
    "The data is already provided for you. You'll be using a subset of the original dataset. It consists of only the\n",
    "scenes in Moe's Tavern. This doesn't include other versions of the tavern, like \"Moe's Cavern\", \"Flaming\n",
    "Moe's\", \"Uncle Moe's Family Feed-Bag\", etc.."
   ]
  },
  {
   "cell_type": "code",
   "execution_count": 1,
   "metadata": {},
   "outputs": [],
   "source": [
    "import os\n",
    "import pickle\n",
    "\n",
    "def load_data(path):\n",
    "    \"\"\"\n",
    "    Load Dataset from File\n",
    "    \"\"\"\n",
    "    input_file = os.path.join(path)\n",
    "    with open(input_file, \"r\") as f:\n",
    "        data = f.read()\n",
    "    return data\n",
    "\n",
    "\n",
    "def preprocess_and_save_data(dataset_path, token_lookup, create_lookup_tables):\n",
    "    \"\"\"\n",
    "    Preprocess Text Data\n",
    "    \"\"\"\n",
    "    text = load_data(dataset_path)\n",
    "# Ignore notice, since we don't use it for analysing the data\n",
    "    text = text[81:]\n",
    "    token_dict = token_lookup()\n",
    "    for key, token in token_dict.items():\n",
    "        text = text.replace(key, ' {} '.format(token))\n",
    "    text = text.lower()\n",
    "    text = text.split()\n",
    "    vocab_to_int, int_to_vocab = create_lookup_tables(text)\n",
    "    int_text = [vocab_to_int[word] for word in text]\n",
    "    pickle.dump((int_text, vocab_to_int, int_to_vocab, token_dict), open('preprocess.p', 'wb'))\n",
    "\n",
    "    \n",
    "def load_preprocess():\n",
    "    \"\"\"\n",
    "    Load the Preprocessed Training data and return them in batches of <batch_size> or less\n",
    "    \"\"\"\n",
    "    return pickle.load(open('preprocess.p', mode='rb'))\n",
    "\n",
    "def save_params(params):\n",
    "    \"\"\"\n",
    "    Save parameters to file\n",
    "    \"\"\"\n",
    "    pickle.dump(params, open('params.p', 'wb'))\n",
    "\n",
    "def load_params():\n",
    "    \"\"\"\n",
    "    Load parameters from file\n",
    "    \"\"\"\n",
    "    return pickle.load(open('params.p', mode='rb'))"
   ]
  },
  {
   "cell_type": "code",
   "execution_count": 2,
   "metadata": {},
   "outputs": [],
   "source": [
    "# Load data\n",
    "data_dir = 'moes_tavern_lines.txt'\n",
    "text = load_data(data_dir)\n",
    "# Ignore notice, since we don't use it for analysing the data\n",
    "text = text[81:]"
   ]
  },
  {
   "cell_type": "code",
   "execution_count": 3,
   "metadata": {},
   "outputs": [
    {
     "data": {
      "text/plain": [
       "\"\\nMoe_Szyslak: (INTO PHONE) Moe's Tavern. Where the elite meet to drink.\\nBart_Simpson: Eh, yeah, hello, is Mike there? Last name, Rotch.\\nMoe_Szyslak: (INTO PHONE) Hold on, I'll check. (TO BARFLIES) Mik\""
      ]
     },
     "execution_count": 3,
     "metadata": {},
     "output_type": "execute_result"
    }
   ],
   "source": [
    "text[:200]"
   ]
  },
  {
   "cell_type": "code",
   "execution_count": 4,
   "metadata": {},
   "outputs": [
    {
     "name": "stdout",
     "output_type": "stream",
     "text": [
      "Dataset Stats\n",
      "Roughly the number of unique words: 11492\n",
      "Number of scenes: 262\n",
      "Average number of sentences in each scene: 15.251908396946565\n",
      "Number of lines: 4258\n",
      "Average number of words in each line: 11.50164396430249\n",
      "\n",
      "The sentences 0 to 10:\n",
      "\n",
      "Moe_Szyslak: (INTO PHONE) Moe's Tavern. Where the elite meet to drink.\n",
      "Bart_Simpson: Eh, yeah, hello, is Mike there? Last name, Rotch.\n",
      "Moe_Szyslak: (INTO PHONE) Hold on, I'll check. (TO BARFLIES) Mike Rotch. Mike Rotch. Hey, has anybody seen Mike Rotch, lately?\n",
      "Moe_Szyslak: (INTO PHONE) Listen you little puke. One of these days I'm gonna catch you, and I'm gonna carve my name on your back with an ice pick.\n",
      "Moe_Szyslak: What's the matter Homer? You're not your normal effervescent self.\n",
      "Homer_Simpson: I got my problems, Moe. Give me another one.\n",
      "Moe_Szyslak: Homer, hey, you should not drink to forget your problems.\n",
      "Barney_Gumble: Yeah, you should only drink to enhance your social skills.\n",
      "\n"
     ]
    }
   ],
   "source": [
    "view_sentence_range = (0, 10)\n",
    "import numpy as np\n",
    "\"\"\"\n",
    "DON'T MODIFY ANYTHING IN THIS CELL\n",
    "\"\"\"\n",
    "import numpy as np\n",
    "\n",
    "print('Dataset Stats')\n",
    "print('Roughly the number of unique words: {}'.format(len({word: None for word in text.split()})))\n",
    "scenes = text.split('\\n\\n')\n",
    "print('Number of scenes: {}'.format(len(scenes)))\n",
    "sentence_count_scene = [scene.count('\\n') for scene in scenes]\n",
    "print('Average number of sentences in each scene: {}'.format(np.average(sentence_count_scene)))\n",
    "\n",
    "sentences = [sentence for scene in scenes for sentence in scene.split('\\n')]\n",
    "print('Number of lines: {}'.format(len(sentences)))\n",
    "word_count_sentence = [len(sentence.split()) for sentence in sentences]\n",
    "print('Average number of words in each line: {}'.format(np.average(word_count_sentence)))\n",
    "\n",
    "print()\n",
    "print('The sentences {} to {}:'.format(*view_sentence_range))\n",
    "print('\\n'.join(text.split('\\n')[view_sentence_range[0]:view_sentence_range[1]]))"
   ]
  },
  {
   "cell_type": "markdown",
   "metadata": {},
   "source": [
    "### Implement Preprocessing Functions\n",
    "The first thing to do to any dataset is preprocessing. Implement the following preprocessing functions below:\n",
    "\n",
    "Lookup Table\n",
    "\n",
    "Tokenize Punctuation"
   ]
  },
  {
   "cell_type": "markdown",
   "metadata": {},
   "source": [
    "### Lookup Table\n",
    "To create a word embedding, you first need to transform the words to ids. In this function, create two dictionaries:\n",
    "\n",
    "Dictionary to go from the words to an id, we'll call vocab_to_int\n",
    "Dictionary to go from the id to word, we'll call int_to_vocab\n",
    "\n",
    "Return these dictionaries in the following tuple (vocab_to_int, int_to_vocab)"
   ]
  },
  {
   "cell_type": "code",
   "execution_count": 5,
   "metadata": {},
   "outputs": [],
   "source": [
    "import numpy as np\n",
    "\n",
    "from collections import Counter\n",
    "\n",
    "def create_lookup_tables(text):\n",
    "    \"\"\"\n",
    "    Create lookup tables for vocabulary\n",
    "    :param text: The text of tv scripts split into words\n",
    "    :return: A tuple of dicts (vocab_to_int, int_to_vocab)\n",
    "    \"\"\"\n",
    "    word_counts = Counter(text)\n",
    "    vocab = set(text)\n",
    "    vocab_to_int = {c: i for i, c in enumerate(vocab)}\n",
    "    int_to_vocab = dict(enumerate(vocab))\n",
    "    return vocab_to_int, int_to_vocab"
   ]
  },
  {
   "cell_type": "markdown",
   "metadata": {},
   "source": [
    "### Tokenize Punctuation\n",
    "We'll be splitting the script into a word array using spaces as delimiters. However, punctuations like periods and exclamation marks make it hard for the neural network to distinguish between the word \"bye\" and \"bye!\".\n",
    "\n",
    "Implement the function token_lookup to return a dict that will be used to tokenize symbols like \"!\" into \"||Exclamation_Mark||\". Create a dictionary for the following symbols where the symbol is the key and value is the token:\n",
    "\n",
    "Period ( . )\n",
    "\n",
    "Comma ( , )\n",
    "\n",
    "Quotation Mark ( \" )\n",
    "\n",
    "Semicolon ( ; )\n",
    "\n",
    "Exclamation mark ( ! )\n",
    "\n",
    "Question mark ( ? )\n",
    "\n",
    "Left Parentheses ( ( )\n",
    "\n",
    "Right Parentheses ( ) )\n",
    "\n",
    "Dash ( -- )\n",
    "\n",
    "Return ( \\n )\n",
    "\n",
    "This dictionary will be used to token the symbols and add the delimiter (space) around it. This separates the symbols as it's own word, making it easier for the neural network to predict on the next word. Make sure you don't use a token that could be confused as a word. Instead of using the token \"dash\", try using something like \"||dash||\"."
   ]
  },
  {
   "cell_type": "code",
   "execution_count": 6,
   "metadata": {},
   "outputs": [],
   "source": [
    "def token_lookup():\n",
    "    \"\"\"\n",
    "    Generate a dict to turn punctuation into a token.\n",
    "    :return: Tokenize dictionary where the key is the punctuation and the value is the token\n",
    "    \"\"\"\n",
    "    \n",
    "    punc = {'.': '||Period||',\n",
    "            ',': '||Comma||',\n",
    "            '\"': '||Quotation_Mark||',\n",
    "            ';': '||Semicolon||',\n",
    "            '!': '||Exclamation_mark||',\n",
    "            '?': '||Question_mark||',\n",
    "            '(': '||Left_Parentheses||',\n",
    "            ')': '||Right_Parentheses||',\n",
    "            '--': '||Dash||',\n",
    "            '\\n': '||Return||'}\n",
    "    \n",
    "    return punc"
   ]
  },
  {
   "cell_type": "markdown",
   "metadata": {},
   "source": [
    "### Preprocess all the data and save it"
   ]
  },
  {
   "cell_type": "code",
   "execution_count": 7,
   "metadata": {},
   "outputs": [],
   "source": [
    "preprocess_and_save_data(data_dir, token_lookup, create_lookup_tables)"
   ]
  },
  {
   "cell_type": "code",
   "execution_count": 8,
   "metadata": {},
   "outputs": [],
   "source": [
    "import numpy as np\n",
    "int_text, vocab_to_int, int_to_vocab, token_dict = load_preprocess()"
   ]
  },
  {
   "cell_type": "markdown",
   "metadata": {},
   "source": [
    "### Input\n",
    "Implement the get_inputs() function to create TF Placeholders for the Neural Network. It should create\n",
    "the following placeholders:\n",
    "Input text placeholder named \"input\" using the TF Placeholder\n",
    "(https://www.tensorflow.org/api_docs/python/tf/placeholder) name parameter.\n",
    "\n",
    "Targets placeholder\n",
    "\n",
    "Learning Rate placeholder\n",
    "\n",
    "Return the placeholders in the following the tuple (Input, Targets, LearingRate)"
   ]
  },
  {
   "cell_type": "code",
   "execution_count": 83,
   "metadata": {},
   "outputs": [],
   "source": [
    "def get_inputs():\n",
    "    \"\"\"\n",
    "    Create TF Placeholders for input, targets, and learning rate.\n",
    "    :return: Tuple (input, targets, learning rate)\n",
    "    \"\"\"\n",
    "    input = tf.placeholder(tf.int32, [None, None] , name='input')\n",
    "    targets = tf.placeholder(tf.int32, [None, None])\n",
    "    learningRate = tf.placeholder(tf.float32)\n",
    "    return (input, targets, learningRate)"
   ]
  },
  {
   "cell_type": "markdown",
   "metadata": {},
   "source": [
    "#### Check the Version of TensorFlow and Access to GPU"
   ]
  },
  {
   "cell_type": "code",
   "execution_count": 10,
   "metadata": {},
   "outputs": [
    {
     "name": "stdout",
     "output_type": "stream",
     "text": [
      "TensorFlow Version: 1.15.0\n"
     ]
    },
    {
     "name": "stderr",
     "output_type": "stream",
     "text": [
      "C:\\Users\\JSM\\Anaconda3\\lib\\site-packages\\ipykernel_launcher.py:14: UserWarning: No GPU found. Please use a GPU to train your neural network.\n",
      "  \n"
     ]
    }
   ],
   "source": [
    "\"\"\"\n",
    "DON'T MODIFY ANYTHING IN THIS CELL\n",
    "\"\"\"\n",
    "from distutils.version import LooseVersion\n",
    "import warnings\n",
    "import tensorflow as tf\n",
    "\n",
    "# Check TensorFlow Version\n",
    "assert LooseVersion(tf.__version__) >= LooseVersion('1.3'), 'Please use TensorFlow version 1.3 or newer'\n",
    "print('TensorFlow Version: {}'.format(tf.__version__))\n",
    "\n",
    "# Check for a GPU\n",
    "if not tf.test.gpu_device_name():\n",
    "    warnings.warn('No GPU found. Please use a GPU to train your neural network.')\n",
    "else:\n",
    "    print('Default GPU Device: {}'.format(tf.test.gpu_device_name()))"
   ]
  },
  {
   "cell_type": "markdown",
   "metadata": {},
   "source": [
    "### Build RNN Cell and Initialize"
   ]
  },
  {
   "cell_type": "code",
   "execution_count": 84,
   "metadata": {},
   "outputs": [],
   "source": [
    "def get_init_cell(batch_size, rnn_size):\n",
    "    \"\"\"\n",
    "    Create an RNN Cell and initialize it.\n",
    "    :param batch_size: Size of batches\n",
    "    :param rnn_size: Size of RNNs\n",
    "    :return: Tuple (cell, initialize state)\n",
    "    \"\"\"\n",
    "    lstm = tf.contrib.rnn.BasicLSTMCell(rnn_size)\n",
    "    cell = tf.contrib.rnn.MultiRNNCell([lstm])\n",
    "    initial_state = tf.identity(cell.zero_state(batch_size,tf.float32), name = 'initial_state')\n",
    "    \n",
    "    return (cell, initial_state)"
   ]
  },
  {
   "cell_type": "code",
   "execution_count": 12,
   "metadata": {},
   "outputs": [],
   "source": [
    "def get_embed(input_data, vocab_size, embed_dim):\n",
    "    \"\"\"\n",
    "    Create embedding for <input_data>.\n",
    "    :param input_data: TF placeholder for text input.\n",
    "    :param vocab_size: Number of words in vocabulary.\n",
    "    :param embed_dim: Number of embedding dimensions\n",
    "    :return: Embedded input.\n",
    "    \"\"\"\n",
    "    em = tf.Variable(tf.random_uniform([vocab_size, embed_dim], -1.0, 1.0))\n",
    "    embeddings = tf.nn.embedding_lookup(em, input_data)\n",
    "    \n",
    "    return embeddings"
   ]
  },
  {
   "cell_type": "markdown",
   "metadata": {},
   "source": [
    "### Build RNN"
   ]
  },
  {
   "cell_type": "code",
   "execution_count": 85,
   "metadata": {},
   "outputs": [],
   "source": [
    "def build_rnn(cell, inputs):\n",
    "    \"\"\"\n",
    "    Create a RNN using a RNN Cell\n",
    "    :param cell: RNN Cell\n",
    "    :param inputs: Input text data\n",
    "    :return: Tuple (Outputs, Final State)\n",
    "    \"\"\"\n",
    "    outputs, state = tf.nn.dynamic_rnn(cell, inputs, dtype=tf.float32)\n",
    "    final_state = tf.identity(state, name=\"final_state\")\n",
    "    \n",
    "    return (outputs, final_state)"
   ]
  },
  {
   "cell_type": "code",
   "execution_count": 86,
   "metadata": {},
   "outputs": [],
   "source": [
    "def build_nn(cell, rnn_size, input_data, vocab_size, embed_dim):\n",
    "    \"\"\"\n",
    "    Build part of the neural network\n",
    "    :param cell: RNN cell\n",
    "    :param rnn_size: Size of rnns\n",
    "    :param input_data: Input data\n",
    "    :param vocab_size: Vocabulary size\n",
    "    :return: Tuple (Logits, FinalState)\n",
    "    \"\"\"\n",
    "    #embed_dim = 100\n",
    "    embeddings = get_embed(input_data, vocab_size, embed_dim)\n",
    "    outputs, final_state = build_rnn(cell, embeddings)\n",
    "    logits = tf.contrib.layers.fully_connected(outputs, vocab_size, activation_fn=None)\n",
    "\n",
    "    return (logits,final_state)"
   ]
  },
  {
   "cell_type": "markdown",
   "metadata": {},
   "source": [
    "### Batches\n",
    "Implement get_batches to create batches of input and targets using int_text. The batches should be a Numpy array with the shape (number of batches, 2, batch size, sequence length). Each batch contains two elements:\n",
    "\n",
    "The first element is a single batch of input with the shape [batch size, sequence length]\n",
    "The second element is a single batch of targets with the shape [batch size, sequence length]\n",
    "If you can't fill the last batch with enough data, drop the last batch.\n",
    "\n",
    "For exmple, get_batches([1, 2, 3, 4, 5, 6, 7, 8, 9, 10, 11, 12, 13, 14, 15], 2, 3) would return a Numpy array of the following:"
   ]
  },
  {
   "cell_type": "code",
   "execution_count": 16,
   "metadata": {},
   "outputs": [],
   "source": [
    "def get_batches(int_text, batch_size, seq_length):\n",
    "    \"\"\"\n",
    "    Return batches of input and target\n",
    "    :param int_text: Text with the words replaced by their ids\n",
    "    :param batch_size: The size of batch\n",
    "    :param seq_length: The length of sequence\n",
    "    :return: Batches as a Numpy array\n",
    "    \"\"\"\n",
    "    total_batch = len(int_text)//(batch_size * seq_length)\n",
    "    len_to_consider = int(total_batch*batch_size*seq_length)\n",
    "    \n",
    "    input_text = np.array(int_text[:len_to_consider])\n",
    "    label_text = np.array(int_text[1:len_to_consider+1])\n",
    "    \n",
    "    input_text = np.split(input_text, total_batch*batch_size)\n",
    "    label_text = np.split(label_text, total_batch*batch_size)\n",
    "    \n",
    "    output = np.empty((total_batch, 2, batch_size, seq_length))\n",
    "    \n",
    "    for i in range(batch_size):\n",
    "        for j in range(total_batch):\n",
    "            output[j][0][i] = input_text[total_batch*(i)+j]\n",
    "    for i in range(batch_size):\n",
    "        for j in range(total_batch):\n",
    "            output[j][1][i] = label_text[total_batch*(i)+j]\n",
    "    return output"
   ]
  },
  {
   "cell_type": "code",
   "execution_count": 87,
   "metadata": {},
   "outputs": [],
   "source": [
    "def get_batches(int_text, batch_size, seq_length):\n",
    "    \"\"\"\n",
    "    Return batches of input and target\n",
    "    :param int_text: Text with the words replaced by their ids\n",
    "    :param batch_size: The size of batch\n",
    "    :param seq_length: The length of sequence\n",
    "    :return: Batches as a Numpy array\n",
    "    \"\"\"   \n",
    "    inputs_per_batch = batch_size * seq_length\n",
    "    num_batches = len(int_text)//(inputs_per_batch)\n",
    "    int_text = int_text[:num_batches*inputs_per_batch] # drop unused  \n",
    "    int_text.append(int_text[0]) # to use first input value of first batch as last target value of the last batch\n",
    "\n",
    "    # allocate memory with shape of batches\n",
    "    batches = np.zeros([num_batches, 2, batch_size, seq_length], dtype=np.int32)\n",
    "\n",
    "    # Add seq_length elements at a time to input and targets appropriately\n",
    "    for i in range(0, len(int_text), seq_length):\n",
    "        batch_no = (i // seq_length) % num_batches\n",
    "        index_in_batch = i // (seq_length * num_batches)\n",
    "        \n",
    "        if (index_in_batch == batch_size):            \n",
    "            break\n",
    "        \n",
    "        # input \n",
    "        batches[batch_no, 0, index_in_batch] = int_text[i : i+seq_length]\n",
    "\n",
    "        # targets\n",
    "        batches[batch_no, 1, index_in_batch] = int_text[i+1 : i+seq_length+1] # element next to input element\n",
    "    return batches"
   ]
  },
  {
   "cell_type": "markdown",
   "metadata": {},
   "source": [
    "### Training"
   ]
  },
  {
   "cell_type": "code",
   "execution_count": 88,
   "metadata": {},
   "outputs": [],
   "source": [
    "# Number of Epochs\n",
    "num_epochs = 300\n",
    "# Batch Size\n",
    "batch_size =128\n",
    "# RNN Size\n",
    "rnn_size = 256\n",
    "# Embedding Dimension Size\n",
    "embed_dim = 256\n",
    "# Sequence Length\n",
    "seq_length = 32\n",
    "# Learning Rate\n",
    "learning_rate = 0.01\n",
    "# Show stats for every n number of batches\n",
    "show_every_n_batches = 20\n",
    "\n",
    "save_dir = './save'"
   ]
  },
  {
   "cell_type": "markdown",
   "metadata": {},
   "source": [
    "### Build the Graph"
   ]
  },
  {
   "cell_type": "code",
   "execution_count": 90,
   "metadata": {},
   "outputs": [],
   "source": [
    "#import tensorflow as tf\n",
    "from tensorflow.contrib import seq2seq\n",
    "\n",
    "train_graph = tf.Graph()\n",
    "with train_graph.as_default():\n",
    "    vocab_size = len(int_to_vocab)\n",
    "    input_text, targets, lr = get_inputs()\n",
    "    input_data_shape = tf.shape(input_text)\n",
    "    cell, initial_state = get_init_cell(input_data_shape[0], rnn_size)\n",
    "    logits, final_state = build_nn(cell, rnn_size, input_text, vocab_size, embed_dim)\n",
    "\n",
    "    # Probabilities for generating words\n",
    "    probs = tf.nn.softmax(logits, name='probs')\n",
    "    \n",
    "    # Loss function\n",
    "    cost = seq2seq.sequence_loss(\n",
    "        logits,\n",
    "        targets,\n",
    "        tf.ones([input_data_shape[0], input_data_shape[1]]))\n",
    "    \n",
    "    # Optimizer\n",
    "    optimizer = tf.train.AdamOptimizer(lr)\n",
    "    \n",
    "    # Gradient Clipping\n",
    "    gradients = optimizer.compute_gradients(cost)\n",
    "    capped_gradients = [(tf.clip_by_value(grad, -1., 1.), var)\n",
    "                        for grad, var in gradients]\n",
    "    train_op = optimizer.apply_gradients(capped_gradients)"
   ]
  },
  {
   "cell_type": "markdown",
   "metadata": {},
   "source": [
    "### Train"
   ]
  },
  {
   "cell_type": "code",
   "execution_count": 91,
   "metadata": {
    "scrolled": true
   },
   "outputs": [
    {
     "name": "stdout",
     "output_type": "stream",
     "text": [
      "Epoch   0 Batch    0/16 train_loss = 8.824\n",
      "Epoch   1 Batch    4/16 train_loss = 5.333\n",
      "Epoch   2 Batch    8/16 train_loss = 4.770\n",
      "Epoch   3 Batch   12/16 train_loss = 4.179\n",
      "Epoch   5 Batch    0/16 train_loss = 3.704\n",
      "Epoch   6 Batch    4/16 train_loss = 3.408\n",
      "Epoch   7 Batch    8/16 train_loss = 3.144\n",
      "Epoch   8 Batch   12/16 train_loss = 2.899\n",
      "Epoch  10 Batch    0/16 train_loss = 2.621\n",
      "Epoch  11 Batch    4/16 train_loss = 2.399\n",
      "Epoch  12 Batch    8/16 train_loss = 2.293\n",
      "Epoch  13 Batch   12/16 train_loss = 2.175\n",
      "Epoch  15 Batch    0/16 train_loss = 1.992\n",
      "Epoch  16 Batch    4/16 train_loss = 1.805\n",
      "Epoch  17 Batch    8/16 train_loss = 1.667\n",
      "Epoch  18 Batch   12/16 train_loss = 1.567\n",
      "Epoch  20 Batch    0/16 train_loss = 1.479\n",
      "Epoch  21 Batch    4/16 train_loss = 1.406\n",
      "Epoch  22 Batch    8/16 train_loss = 1.306\n",
      "Epoch  23 Batch   12/16 train_loss = 1.266\n",
      "Epoch  25 Batch    0/16 train_loss = 1.172\n",
      "Epoch  26 Batch    4/16 train_loss = 1.064\n",
      "Epoch  27 Batch    8/16 train_loss = 0.952\n",
      "Epoch  28 Batch   12/16 train_loss = 0.903\n",
      "Epoch  30 Batch    0/16 train_loss = 0.837\n",
      "Epoch  31 Batch    4/16 train_loss = 0.804\n",
      "Epoch  32 Batch    8/16 train_loss = 0.743\n",
      "Epoch  33 Batch   12/16 train_loss = 0.715\n",
      "Epoch  35 Batch    0/16 train_loss = 0.690\n",
      "Epoch  36 Batch    4/16 train_loss = 0.662\n",
      "Epoch  37 Batch    8/16 train_loss = 0.585\n",
      "Epoch  38 Batch   12/16 train_loss = 0.547\n",
      "Epoch  40 Batch    0/16 train_loss = 0.525\n",
      "Epoch  41 Batch    4/16 train_loss = 0.494\n",
      "Epoch  42 Batch    8/16 train_loss = 0.442\n",
      "Epoch  43 Batch   12/16 train_loss = 0.403\n",
      "Epoch  45 Batch    0/16 train_loss = 0.394\n",
      "Epoch  46 Batch    4/16 train_loss = 0.376\n",
      "Epoch  47 Batch    8/16 train_loss = 0.348\n",
      "Epoch  48 Batch   12/16 train_loss = 0.343\n",
      "Epoch  50 Batch    0/16 train_loss = 0.362\n",
      "Epoch  51 Batch    4/16 train_loss = 0.367\n",
      "Epoch  52 Batch    8/16 train_loss = 0.325\n",
      "Epoch  53 Batch   12/16 train_loss = 0.310\n",
      "Epoch  55 Batch    0/16 train_loss = 0.302\n",
      "Epoch  56 Batch    4/16 train_loss = 0.279\n",
      "Epoch  57 Batch    8/16 train_loss = 0.235\n",
      "Epoch  58 Batch   12/16 train_loss = 0.226\n",
      "Epoch  60 Batch    0/16 train_loss = 0.200\n",
      "Epoch  61 Batch    4/16 train_loss = 0.191\n",
      "Epoch  62 Batch    8/16 train_loss = 0.162\n",
      "Epoch  63 Batch   12/16 train_loss = 0.185\n",
      "Epoch  65 Batch    0/16 train_loss = 0.213\n",
      "Epoch  66 Batch    4/16 train_loss = 0.201\n",
      "Epoch  67 Batch    8/16 train_loss = 0.176\n",
      "Epoch  68 Batch   12/16 train_loss = 0.205\n",
      "Epoch  70 Batch    0/16 train_loss = 0.222\n",
      "Epoch  71 Batch    4/16 train_loss = 0.199\n",
      "Epoch  72 Batch    8/16 train_loss = 0.188\n",
      "Epoch  73 Batch   12/16 train_loss = 0.205\n",
      "Epoch  75 Batch    0/16 train_loss = 0.203\n",
      "Epoch  76 Batch    4/16 train_loss = 0.194\n",
      "Epoch  77 Batch    8/16 train_loss = 0.159\n",
      "Epoch  78 Batch   12/16 train_loss = 0.168\n",
      "Epoch  80 Batch    0/16 train_loss = 0.158\n",
      "Epoch  81 Batch    4/16 train_loss = 0.138\n",
      "Epoch  82 Batch    8/16 train_loss = 0.113\n",
      "Epoch  83 Batch   12/16 train_loss = 0.123\n",
      "Epoch  85 Batch    0/16 train_loss = 0.117\n",
      "Epoch  86 Batch    4/16 train_loss = 0.108\n",
      "Epoch  87 Batch    8/16 train_loss = 0.093\n",
      "Epoch  88 Batch   12/16 train_loss = 0.103\n",
      "Epoch  90 Batch    0/16 train_loss = 0.098\n",
      "Epoch  91 Batch    4/16 train_loss = 0.092\n",
      "Epoch  92 Batch    8/16 train_loss = 0.085\n",
      "Epoch  93 Batch   12/16 train_loss = 0.099\n",
      "Epoch  95 Batch    0/16 train_loss = 0.096\n",
      "Epoch  96 Batch    4/16 train_loss = 0.089\n",
      "Epoch  97 Batch    8/16 train_loss = 0.083\n",
      "Epoch  98 Batch   12/16 train_loss = 0.097\n",
      "Epoch 100 Batch    0/16 train_loss = 0.094\n",
      "Epoch 101 Batch    4/16 train_loss = 0.088\n",
      "Epoch 102 Batch    8/16 train_loss = 0.082\n",
      "Epoch 103 Batch   12/16 train_loss = 0.096\n",
      "Epoch 105 Batch    0/16 train_loss = 0.093\n",
      "Epoch 106 Batch    4/16 train_loss = 0.087\n",
      "Epoch 107 Batch    8/16 train_loss = 0.081\n",
      "Epoch 108 Batch   12/16 train_loss = 0.095\n",
      "Epoch 110 Batch    0/16 train_loss = 0.092\n",
      "Epoch 111 Batch    4/16 train_loss = 0.086\n",
      "Epoch 112 Batch    8/16 train_loss = 0.080\n",
      "Epoch 113 Batch   12/16 train_loss = 0.094\n",
      "Epoch 115 Batch    0/16 train_loss = 0.092\n",
      "Epoch 116 Batch    4/16 train_loss = 0.085\n",
      "Epoch 117 Batch    8/16 train_loss = 0.080\n",
      "Epoch 118 Batch   12/16 train_loss = 0.094\n",
      "Epoch 120 Batch    0/16 train_loss = 0.091\n",
      "Epoch 121 Batch    4/16 train_loss = 0.085\n",
      "Epoch 122 Batch    8/16 train_loss = 0.079\n",
      "Epoch 123 Batch   12/16 train_loss = 0.094\n",
      "Epoch 125 Batch    0/16 train_loss = 0.091\n",
      "Epoch 126 Batch    4/16 train_loss = 0.084\n",
      "Epoch 127 Batch    8/16 train_loss = 0.079\n",
      "Epoch 128 Batch   12/16 train_loss = 0.093\n",
      "Epoch 130 Batch    0/16 train_loss = 0.090\n",
      "Epoch 131 Batch    4/16 train_loss = 0.084\n",
      "Epoch 132 Batch    8/16 train_loss = 0.079\n",
      "Epoch 133 Batch   12/16 train_loss = 0.093\n",
      "Epoch 135 Batch    0/16 train_loss = 0.091\n",
      "Epoch 136 Batch    4/16 train_loss = 0.084\n",
      "Epoch 137 Batch    8/16 train_loss = 0.078\n",
      "Epoch 138 Batch   12/16 train_loss = 0.093\n",
      "Epoch 140 Batch    0/16 train_loss = 0.090\n",
      "Epoch 141 Batch    4/16 train_loss = 0.084\n",
      "Epoch 142 Batch    8/16 train_loss = 0.078\n",
      "Epoch 143 Batch   12/16 train_loss = 0.092\n",
      "Epoch 145 Batch    0/16 train_loss = 0.091\n",
      "Epoch 146 Batch    4/16 train_loss = 0.084\n",
      "Epoch 147 Batch    8/16 train_loss = 0.079\n",
      "Epoch 148 Batch   12/16 train_loss = 0.093\n",
      "Epoch 150 Batch    0/16 train_loss = 0.090\n",
      "Epoch 151 Batch    4/16 train_loss = 0.084\n",
      "Epoch 152 Batch    8/16 train_loss = 0.078\n",
      "Epoch 153 Batch   12/16 train_loss = 0.092\n",
      "Epoch 155 Batch    0/16 train_loss = 0.090\n",
      "Epoch 156 Batch    4/16 train_loss = 0.083\n",
      "Epoch 157 Batch    8/16 train_loss = 0.078\n",
      "Epoch 158 Batch   12/16 train_loss = 0.092\n",
      "Epoch 160 Batch    0/16 train_loss = 0.089\n",
      "Epoch 161 Batch    4/16 train_loss = 0.083\n",
      "Epoch 162 Batch    8/16 train_loss = 0.078\n",
      "Epoch 163 Batch   12/16 train_loss = 0.092\n",
      "Epoch 165 Batch    0/16 train_loss = 0.090\n",
      "Epoch 166 Batch    4/16 train_loss = 0.083\n",
      "Epoch 167 Batch    8/16 train_loss = 0.078\n",
      "Epoch 168 Batch   12/16 train_loss = 0.092\n",
      "Epoch 170 Batch    0/16 train_loss = 0.089\n",
      "Epoch 171 Batch    4/16 train_loss = 0.083\n",
      "Epoch 172 Batch    8/16 train_loss = 0.077\n",
      "Epoch 173 Batch   12/16 train_loss = 0.092\n",
      "Epoch 175 Batch    0/16 train_loss = 0.090\n",
      "Epoch 176 Batch    4/16 train_loss = 0.083\n",
      "Epoch 177 Batch    8/16 train_loss = 0.077\n",
      "Epoch 178 Batch   12/16 train_loss = 0.092\n",
      "Epoch 180 Batch    0/16 train_loss = 0.089\n",
      "Epoch 181 Batch    4/16 train_loss = 0.083\n",
      "Epoch 182 Batch    8/16 train_loss = 0.077\n",
      "Epoch 183 Batch   12/16 train_loss = 0.092\n",
      "Epoch 185 Batch    0/16 train_loss = 0.089\n",
      "Epoch 186 Batch    4/16 train_loss = 0.082\n",
      "Epoch 187 Batch    8/16 train_loss = 0.077\n",
      "Epoch 188 Batch   12/16 train_loss = 0.092\n",
      "Epoch 190 Batch    0/16 train_loss = 0.088\n",
      "Epoch 191 Batch    4/16 train_loss = 0.083\n",
      "Epoch 192 Batch    8/16 train_loss = 0.077\n",
      "Epoch 193 Batch   12/16 train_loss = 0.091\n",
      "Epoch 195 Batch    0/16 train_loss = 0.089\n",
      "Epoch 196 Batch    4/16 train_loss = 0.082\n",
      "Epoch 197 Batch    8/16 train_loss = 0.077\n",
      "Epoch 198 Batch   12/16 train_loss = 0.091\n",
      "Epoch 200 Batch    0/16 train_loss = 0.088\n",
      "Epoch 201 Batch    4/16 train_loss = 0.082\n",
      "Epoch 202 Batch    8/16 train_loss = 0.077\n",
      "Epoch 203 Batch   12/16 train_loss = 0.091\n",
      "Epoch 205 Batch    0/16 train_loss = 0.089\n",
      "Epoch 206 Batch    4/16 train_loss = 0.082\n",
      "Epoch 207 Batch    8/16 train_loss = 0.077\n",
      "Epoch 208 Batch   12/16 train_loss = 0.091\n",
      "Epoch 210 Batch    0/16 train_loss = 0.088\n",
      "Epoch 211 Batch    4/16 train_loss = 0.082\n",
      "Epoch 212 Batch    8/16 train_loss = 0.077\n",
      "Epoch 213 Batch   12/16 train_loss = 0.091\n",
      "Epoch 215 Batch    0/16 train_loss = 0.089\n",
      "Epoch 216 Batch    4/16 train_loss = 0.082\n",
      "Epoch 217 Batch    8/16 train_loss = 0.077\n",
      "Epoch 218 Batch   12/16 train_loss = 0.091\n",
      "Epoch 220 Batch    0/16 train_loss = 0.089\n",
      "Epoch 221 Batch    4/16 train_loss = 0.083\n",
      "Epoch 222 Batch    8/16 train_loss = 0.077\n",
      "Epoch 223 Batch   12/16 train_loss = 0.093\n",
      "Epoch 225 Batch    0/16 train_loss = 0.099\n",
      "Epoch 226 Batch    4/16 train_loss = 1.646\n",
      "Epoch 227 Batch    8/16 train_loss = 3.069\n",
      "Epoch 228 Batch   12/16 train_loss = 2.318\n",
      "Epoch 230 Batch    0/16 train_loss = 1.643\n",
      "Epoch 231 Batch    4/16 train_loss = 1.226\n",
      "Epoch 232 Batch    8/16 train_loss = 0.929\n",
      "Epoch 233 Batch   12/16 train_loss = 0.748\n",
      "Epoch 235 Batch    0/16 train_loss = 0.615\n",
      "Epoch 236 Batch    4/16 train_loss = 0.512\n",
      "Epoch 237 Batch    8/16 train_loss = 0.443\n"
     ]
    },
    {
     "name": "stdout",
     "output_type": "stream",
     "text": [
      "Epoch 238 Batch   12/16 train_loss = 0.365\n",
      "Epoch 240 Batch    0/16 train_loss = 0.318\n",
      "Epoch 241 Batch    4/16 train_loss = 0.292\n",
      "Epoch 242 Batch    8/16 train_loss = 0.247\n",
      "Epoch 243 Batch   12/16 train_loss = 0.232\n",
      "Epoch 245 Batch    0/16 train_loss = 0.202\n",
      "Epoch 246 Batch    4/16 train_loss = 0.184\n",
      "Epoch 247 Batch    8/16 train_loss = 0.166\n",
      "Epoch 248 Batch   12/16 train_loss = 0.178\n",
      "Epoch 250 Batch    0/16 train_loss = 0.173\n",
      "Epoch 251 Batch    4/16 train_loss = 0.153\n",
      "Epoch 252 Batch    8/16 train_loss = 0.153\n",
      "Epoch 253 Batch   12/16 train_loss = 0.155\n",
      "Epoch 255 Batch    0/16 train_loss = 0.138\n",
      "Epoch 256 Batch    4/16 train_loss = 0.129\n",
      "Epoch 257 Batch    8/16 train_loss = 0.123\n",
      "Epoch 258 Batch   12/16 train_loss = 0.131\n",
      "Epoch 260 Batch    0/16 train_loss = 0.119\n",
      "Epoch 261 Batch    4/16 train_loss = 0.113\n",
      "Epoch 262 Batch    8/16 train_loss = 0.101\n",
      "Epoch 263 Batch   12/16 train_loss = 0.111\n",
      "Epoch 265 Batch    0/16 train_loss = 0.104\n",
      "Epoch 266 Batch    4/16 train_loss = 0.096\n",
      "Epoch 267 Batch    8/16 train_loss = 0.089\n",
      "Epoch 268 Batch   12/16 train_loss = 0.103\n",
      "Epoch 270 Batch    0/16 train_loss = 0.100\n",
      "Epoch 271 Batch    4/16 train_loss = 0.093\n",
      "Epoch 272 Batch    8/16 train_loss = 0.086\n",
      "Epoch 273 Batch   12/16 train_loss = 0.100\n",
      "Epoch 275 Batch    0/16 train_loss = 0.097\n",
      "Epoch 276 Batch    4/16 train_loss = 0.090\n",
      "Epoch 277 Batch    8/16 train_loss = 0.085\n",
      "Epoch 278 Batch   12/16 train_loss = 0.099\n",
      "Epoch 280 Batch    0/16 train_loss = 0.096\n",
      "Epoch 281 Batch    4/16 train_loss = 0.089\n",
      "Epoch 282 Batch    8/16 train_loss = 0.083\n",
      "Epoch 283 Batch   12/16 train_loss = 0.098\n",
      "Epoch 285 Batch    0/16 train_loss = 0.095\n",
      "Epoch 286 Batch    4/16 train_loss = 0.088\n",
      "Epoch 287 Batch    8/16 train_loss = 0.083\n",
      "Epoch 288 Batch   12/16 train_loss = 0.097\n",
      "Epoch 290 Batch    0/16 train_loss = 0.094\n",
      "Epoch 291 Batch    4/16 train_loss = 0.087\n",
      "Epoch 292 Batch    8/16 train_loss = 0.082\n",
      "Epoch 293 Batch   12/16 train_loss = 0.096\n",
      "Epoch 295 Batch    0/16 train_loss = 0.093\n",
      "Epoch 296 Batch    4/16 train_loss = 0.086\n",
      "Epoch 297 Batch    8/16 train_loss = 0.081\n",
      "Epoch 298 Batch   12/16 train_loss = 0.095\n",
      "Model Trained and Saved\n"
     ]
    }
   ],
   "source": [
    "batches = get_batches(int_text, batch_size, seq_length)\n",
    "\n",
    "with tf.Session(graph=train_graph) as sess:\n",
    "    sess.run(tf.global_variables_initializer())\n",
    "    for epoch_i in range(num_epochs):\n",
    "        state = sess.run(initial_state, {input_text: batches[0][0]})\n",
    "        for batch_i, (x, y) in enumerate(batches):\n",
    "            feed = {\n",
    "                input_text: x,\n",
    "                targets: y,\n",
    "                initial_state: state,\n",
    "                lr: learning_rate}\n",
    "            train_loss, state, _ = sess.run([cost, final_state, train_op], feed)\n",
    "            # Show every <show_every_n_batches> batches\n",
    "            if (epoch_i * len(batches) + batch_i) % show_every_n_batches == 0:\n",
    "                print('Epoch {:>3} Batch {:>4}/{} train_loss = {:.3f}'.format(\n",
    "                    epoch_i,\n",
    "                    batch_i,\n",
    "                    len(batches),\n",
    "                    train_loss))\n",
    "    # Save Model\n",
    "    saver = tf.train.Saver()\n",
    "    saver.save(sess, save_dir)\n",
    "    print('Model Trained and Saved')"
   ]
  },
  {
   "cell_type": "markdown",
   "metadata": {},
   "source": [
    "### Save Parameters\n",
    "Save seq length and save dir for generating a new TV script."
   ]
  },
  {
   "cell_type": "code",
   "execution_count": 92,
   "metadata": {},
   "outputs": [],
   "source": [
    "#save_params((seq_length, save_dir))\n",
    "import helper\n",
    "helper.save_params((seq_length, save_dir))"
   ]
  },
  {
   "cell_type": "markdown",
   "metadata": {},
   "source": [
    "### Checkpoint"
   ]
  },
  {
   "cell_type": "code",
   "execution_count": 30,
   "metadata": {},
   "outputs": [],
   "source": [
    "#_, vocab_to_int, int_to_vocab, token_dict = load_preprocess()\n",
    "#seq_length, load_dir = load_params()"
   ]
  },
  {
   "cell_type": "code",
   "execution_count": 93,
   "metadata": {},
   "outputs": [],
   "source": [
    "import tensorflow as tf\n",
    "import numpy as np\n",
    "import helper\n",
    "\n",
    "_, vocab_to_int, int_to_vocab, token_dict = helper.load_preprocess()\n",
    "seq_length, load_dir = helper.load_params()"
   ]
  },
  {
   "cell_type": "markdown",
   "metadata": {},
   "source": [
    "### Implement Generate Functions\n",
    "#### Get Tensors\n",
    "Get tensors from loaded_graph using the function get_tensor_by_name(). Get the tensors using the following names:\n",
    "\n",
    "\"input:0\"\n",
    "\n",
    "\"initial_state:0\"\n",
    "\n",
    "\"final_state:0\"\n",
    "\n",
    "\"probs:0\"\n",
    "\n",
    "Return the tensors in the following tuple (InputTensor, InitialStateTensor, FinalStateTensor, ProbsTensor)"
   ]
  },
  {
   "cell_type": "code",
   "execution_count": 94,
   "metadata": {},
   "outputs": [],
   "source": [
    "def get_tensors(loaded_graph):\n",
    "    \"\"\"\n",
    "    Get input, initial state, final state, and probabilities tensor from <loaded_graph>\n",
    "    :param loaded_graph: TensorFlow graph loaded from file\n",
    "    :return: Tuple (InputTensor, InitialStateTensor, FinalStateTensor, ProbsTensor)\n",
    "    \"\"\"\n",
    "    inputTensor = loaded_graph.get_tensor_by_name(\"input:0\")\n",
    "    initialStateTensor = loaded_graph.get_tensor_by_name(\"initial_state:0\")\n",
    "    finalStateTensor = loaded_graph.get_tensor_by_name(\"final_state:0\")\n",
    "    probsTensor = loaded_graph.get_tensor_by_name(\"probs:0\")\n",
    "    return (inputTensor, initialStateTensor, finalStateTensor, probsTensor)"
   ]
  },
  {
   "cell_type": "markdown",
   "metadata": {},
   "source": [
    "### Choose Word\n",
    "Implement the pick_word() function to select the next word using probabilities."
   ]
  },
  {
   "cell_type": "code",
   "execution_count": 95,
   "metadata": {},
   "outputs": [],
   "source": [
    "import random\n",
    "#seed = 0\n",
    "def pick_word(probabilities, int_to_vocab):\n",
    "#    return int_to_vocab[int(np.searchsorted(np.cumsum(probabilities), np.random.rand()))]\n",
    "     return int_to_vocab[np.argmax(probabilities)]"
   ]
  },
  {
   "cell_type": "markdown",
   "metadata": {},
   "source": [
    "### Generate TV Script\n",
    "This will generate the TV script for you. Set gen_length to the length of TV script you want to generate."
   ]
  },
  {
   "cell_type": "code",
   "execution_count": 97,
   "metadata": {},
   "outputs": [
    {
     "name": "stdout",
     "output_type": "stream",
     "text": [
      "INFO:tensorflow:Restoring parameters from ./save\n",
      "homer_simpson:(awkward chuckle) oopsie.\n",
      "edna_krabappel-flanders:(\" why not?\") want it to get weirder?\n",
      "edna_krabappel-flanders:(sweetly) good call, bart. we got someone else comin' up.\n",
      "moe_szyslak:(can't-believe-how-bald-he-is noise) dear lord. here. you need this more than i do.\n",
      "moe_szyslak: just what exactly is this thing.\n",
      "carl_carlson: yeah, you should always make peace with your loved ones.\n",
      "lenny_leonard: i think i'll give my ma a call it, moe.\n",
      "moe_szyslak: it was so i don't know... this time make it a.\n",
      "carl_carlson: yeah, you've been out of the game.(to self) someone's lookin' at a snake in her mailbox.\n",
      "\n",
      "\n",
      "moe_szyslak: sorry about your ma, homer.\n",
      "homer_simpson: i just wish for the lift!\n",
      "moe_szyslak: yeah, but you're not ready for the kickoff.\n",
      "football_announcer: dallas kicks-- would this isn't that... really hits the spot.\n",
      "moe_szyslak: yeah, i figured out that the best way for me to get out\n"
     ]
    }
   ],
   "source": [
    "gen_length = 200\n",
    "# homer_simpson, moe_szyslak, or Barney_Gumble\n",
    "prime_word = 'homer_simpson'\n",
    "\n",
    "\"\"\"\n",
    "DON'T MODIFY ANYTHING IN THIS CELL THAT IS BELOW THIS LINE\n",
    "\"\"\"\n",
    "loaded_graph = tf.Graph()\n",
    "with tf.Session(graph=loaded_graph) as sess:\n",
    "    # Load saved model\n",
    "    loader = tf.train.import_meta_graph(load_dir + '.meta')\n",
    "    loader.restore(sess, load_dir)\n",
    "\n",
    "    # Get Tensors from loaded model\n",
    "    input_text, initial_state, final_state, probs = get_tensors(loaded_graph)\n",
    "\n",
    "    # Sentences generation setup\n",
    "    gen_sentences = [prime_word + ':']\n",
    "    prev_state = sess.run(initial_state, {input_text: np.array([[1]])})\n",
    "\n",
    "    # Generate sentences\n",
    "    for n in range(gen_length):\n",
    "        # Dynamic Input\n",
    "        dyn_input = [[vocab_to_int[word] for word in gen_sentences[-seq_length:]]]\n",
    "        dyn_seq_length = len(dyn_input[0])\n",
    "\n",
    "        # Get Prediction\n",
    "        probabilities, prev_state = sess.run(\n",
    "            [probs, final_state],\n",
    "            {input_text: dyn_input, initial_state: prev_state})\n",
    "        \n",
    "        pred_word = pick_word(probabilities[0][dyn_seq_length-1], int_to_vocab)\n",
    "\n",
    "        gen_sentences.append(pred_word)\n",
    "    \n",
    "    # Remove tokens\n",
    "    tv_script = ' '.join(gen_sentences)\n",
    "    for key, token in token_dict.items():\n",
    "        ending = ' ' if key in ['\\n', '(', '\"'] else ''\n",
    "        tv_script = tv_script.replace(' ' + token.lower(), key)\n",
    "    tv_script = tv_script.replace('\\n ', '\\n')\n",
    "    tv_script = tv_script.replace('( ', '(')\n",
    "        \n",
    "    print(tv_script)"
   ]
  },
  {
   "cell_type": "markdown",
   "metadata": {},
   "source": [
    "### The TV Script is Nonsensical\n",
    "While most of the generated TV script above doesn’t make any sense, this is expected because we trained on less than a megabyte of text. Using a smaller vocabulary or more data should produce better results."
   ]
  },
  {
   "cell_type": "markdown",
   "metadata": {},
   "source": [
    "## Thank you!!!"
   ]
  }
 ],
 "metadata": {
  "kernelspec": {
   "display_name": "Python 3",
   "language": "python",
   "name": "python3"
  },
  "language_info": {
   "codemirror_mode": {
    "name": "ipython",
    "version": 3
   },
   "file_extension": ".py",
   "mimetype": "text/x-python",
   "name": "python",
   "nbconvert_exporter": "python",
   "pygments_lexer": "ipython3",
   "version": "3.7.3"
  }
 },
 "nbformat": 4,
 "nbformat_minor": 2
}
